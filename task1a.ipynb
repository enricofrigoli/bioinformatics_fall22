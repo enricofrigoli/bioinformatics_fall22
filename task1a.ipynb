{
 "cells": [
  {
   "cell_type": "markdown",
   "metadata": {},
   "source": [
    "## Multiple sequence alignment\n",
    "\n",
    "The input files are two .fasta files, `human.fa` and `mouse.fa`, containing ~10k sequences each, representing the variable region of the heavy chain of human and mouse antibodies respectively.\n",
    "\n",
    "The variable (V) portion (of both heavy and light chains) of the antibody is responsible for the binding of the antigen, and it subdivided into four _framework_ regions (FR) separated by three _complementarity determining regions_ (CDRs), also called hypervariable regions. The CDRs directly contact a portion of the antigen surface, so they differ significantly from an antibody to another, since they are responsible for the affinity towards only one specific epitope. On the other hand, the FRs serve as scaffold to hold the CDRs in position, thus they are expected to be more conserved across the range of all antibodies of a given species.\n",
    "\n",
    "On these basis, it is possible to perform multiple sequence alignment (MSA) of V regions sequences to spot FR segments and CDRs in the given sequences by looking at the variability of aminoacids residues across sequences.\n",
    "\n",
    "MSA will be performed using [Clustal Omega](http://www.clustal.org/omega/) (due to its speed compared to ClustalW) and [MUSCLE](https://www.drive5.com/muscle/); Clustal Omega can be installed locally using conda before running the command created with the Biopython wrapper (see code). Instead, MUSCLE does not need any installation, it is sufficient to download the executable file."
   ]
  },
  {
   "cell_type": "code",
   "execution_count": 31,
   "metadata": {},
   "outputs": [],
   "source": [
    "#!conda install -y -c bioconda clustalo\n",
    "from Bio.Align.Applications import MuscleCommandline, ClustalOmegaCommandline, ClustalwCommandline"
   ]
  },
  {
   "cell_type": "markdown",
   "metadata": {},
   "source": [
    "### MSA with Clustal Omega"
   ]
  },
  {
   "cell_type": "code",
   "execution_count": 25,
   "metadata": {},
   "outputs": [
    {
     "name": "stdout",
     "output_type": "stream",
     "text": [
      "clustalo -i data/human.fa -o data/human_msa_clustalO.fasta\n",
      "Alignemnt finished\n"
     ]
    }
   ],
   "source": [
    "# human sequences\n",
    "\n",
    "in_file = \"data/human.fa\"\n",
    "out_file = 'data/alignments/human_msa_clustalO.fasta'\n",
    "\n",
    "# generate the command line\n",
    "clustalOmega_cline = ClustalOmegaCommandline(infile=in_file, outfile = out_file)\n",
    "print(clustalOmega_cline) \n",
    "\n",
    "# perform the MSA, which will be written in out_file file path\n",
    "clustalOmega_cline()\n",
    "print('Alignemnt finished')"
   ]
  },
  {
   "cell_type": "code",
   "execution_count": 3,
   "metadata": {},
   "outputs": [
    {
     "name": "stdout",
     "output_type": "stream",
     "text": [
      "clustalo -i data/mouse.fa -o data/mouse_msa_clustalo.fasta\n",
      "Alignment finished\n"
     ]
    }
   ],
   "source": [
    "# mouse sequences\n",
    "\n",
    "in_file = \"data/mouse.fa\"\n",
    "out_file = 'data/alignments/mouse_msa_clustalO.fasta'\n",
    "\n",
    "clustalOmega_cline = ClustalOmegaCommandline(infile=in_file, outfile = out_file)\n",
    "print(clustalOmega_cline) \n",
    "\n",
    "clustalOmega_cline()\n",
    "print('Alignment finished')"
   ]
  },
  {
   "cell_type": "markdown",
   "metadata": {},
   "source": [
    "### MSA with MUSCLE\n",
    "\n",
    "MUSCLE can perform MSA using the default PPP algorithm (`-align` command) or the Super5 algorithm (`-super5` command) that allows to align large datasets more efficiently. Since there seem to be no way to select the Super5 algorithm using the Biopython wrapper, the command line version was directly used."
   ]
  },
  {
   "cell_type": "code",
   "execution_count": 32,
   "metadata": {},
   "outputs": [],
   "source": [
    "import os\n",
    "muscle_path = '~/Downloads/muscle5.1.linux_intel64'"
   ]
  },
  {
   "cell_type": "code",
   "execution_count": 33,
   "metadata": {},
   "outputs": [
    {
     "name": "stderr",
     "output_type": "stream",
     "text": [
      "\n",
      "muscle 5.1.linux64 [12f0e2]  16.3Gb RAM, 8 cores\n",
      "Built Jan 13 2022 23:17:13\n",
      "(C) Copyright 2004-2021 Robert C. Edgar.\n",
      "https://drive5.com\n",
      "\n",
      "Input: 9997 seqs, length avg 122 max 139\n",
      "\n",
      "00:00 8.2Mb   100.0% Derep 9996 uniques, 0 dupes\n",
      "00:00 9.1Mb  CPU has 8 cores, running 8 threads                      \n",
      "00:51 12Mb    100.0% UCLUST 9997 seqs EE<0.01, 746 centroids, 9250 members\n",
      "00:54 73Mb    100.0% UCLUST 746 seqs EE<0.30, 1 centroids, 744 members    \n",
      "00:54 73Mb    100.0% Make cluster MFAs                                \n",
      "1 clusters pass 1                     \n",
      "00:56 342Mb   100.0% UCLUST 746 seqs EE<0.10, 5 centroids, 740 members\n",
      "00:56 342Mb   100.0% Make cluster MFAs                                \n",
      "5 clusters pass 2                     \n",
      "00:56 342Mb  \n",
      "00:56 342Mb  Align cluster 1 / 5 (255 seqs)\n",
      "00:56 342Mb  \n",
      "01:10 565Mb   100.0% Calc posteriors \n",
      "01:18 583Mb   100.0% Consistency (1/2) \n",
      "01:25 583Mb   100.0% Consistency (2/2) \n",
      "01:25 584Mb   100.0% UPGMA5           \n",
      "01:27 592Mb   100.0% Refining\n",
      "01:27 592Mb                  \n",
      "01:27 592Mb  Align cluster 2 / 5 (56 seqs)\n",
      "01:27 592Mb  \n",
      "01:28 592Mb   100.0% Calc posteriors\n",
      "01:28 592Mb   100.0% Consistency (1/2)\n",
      "01:28 592Mb   100.0% Consistency (2/2)\n",
      "01:28 592Mb   100.0% UPGMA5           \n",
      "01:28 592Mb   100.0% Refining\n",
      "01:28 592Mb                  \n",
      "01:28 592Mb  Align cluster 3 / 5 (46 seqs)\n",
      "01:28 592Mb  \n",
      "01:29 592Mb   100.0% Calc posteriors\n",
      "01:29 592Mb   100.0% Consistency (1/2)\n",
      "01:29 592Mb   100.0% Consistency (2/2)\n",
      "01:29 592Mb   100.0% UPGMA5           \n",
      "01:29 592Mb   100.0% Refining\n",
      "01:29 592Mb                  \n",
      "01:29 592Mb  Align cluster 4 / 5 (130 seqs)\n",
      "01:29 592Mb  \n",
      "01:32 592Mb   100.0% Calc posteriors\n",
      "01:33 592Mb   100.0% Consistency (1/2)\n",
      "01:34 592Mb   100.0% Consistency (2/2)\n",
      "01:34 592Mb   100.0% UPGMA5           \n",
      "01:35 592Mb   100.0% Refining\n",
      "01:35 592Mb                  \n",
      "01:35 592Mb  Align cluster 5 / 5 (259 seqs)\n",
      "01:35 592Mb  \n",
      "01:49 592Mb   100.0% Calc posteriors\n",
      "01:56 600Mb   100.0% Consistency (1/2)\n",
      "02:06 600Mb   100.0% Consistency (2/2)\n",
      "02:06 600Mb   100.0% UPGMA5           \n",
      "02:09 609Mb   100.0% Refining\n",
      "02:09 609Mb   100.0% Consensus sequences\n",
      "02:09 609Mb   100.0% 5 consensus seqs, mean EE 0.46\n",
      "02:09 609Mb   100.0% UPGMA5                        \n",
      "02:10 610Mb   100.0% Join 1 / 4 [255 x 259, 2000 pairs]\n",
      "02:11 611Mb   100.0% Join 2 / 4 [46 x 130, 2000 pairs] \n",
      "02:12 611Mb   100.0% Join 3 / 4 [56 x 176, 2000 pairs]\n",
      "02:13 610Mb   100.0% Join 4 / 4 [232 x 514, 2000 pairs]\n"
     ]
    },
    {
     "data": {
      "text/plain": [
       "0"
      ]
     },
     "execution_count": 33,
     "metadata": {},
     "output_type": "execute_result"
    }
   ],
   "source": [
    "# human sequences\n",
    "\n",
    "in_file = \"data/human.fa\"\n",
    "out_file = \"data/alignments/human_msa_muscle.fasta\"\n",
    "\n",
    "os.system(f'{muscle_path} -super5 {in_file} -output {out_file}')"
   ]
  },
  {
   "cell_type": "code",
   "execution_count": 34,
   "metadata": {},
   "outputs": [
    {
     "name": "stderr",
     "output_type": "stream",
     "text": [
      "\n",
      "muscle 5.1.linux64 [12f0e2]  16.3Gb RAM, 8 cores\n",
      "Built Jan 13 2022 23:17:13\n",
      "(C) Copyright 2004-2021 Robert C. Edgar.\n",
      "https://drive5.com\n",
      "\n",
      "Input: 9997 seqs, length avg 119 max 130\n",
      "\n",
      "00:00 7.9Mb   100.0% Derep 9996 uniques, 0 dupes\n",
      "00:00 9.0Mb  CPU has 8 cores, running 8 threads                      \n",
      "01:06 12Mb    100.0% UCLUST 9997 seqs EE<0.01, 1009 centroids, 8987 members\n",
      "01:09 72Mb    100.0% UCLUST 1010 seqs EE<0.30, 1 centroids, 1008 members   \n",
      "01:09 73Mb    100.0% Make cluster MFAs                                  \n",
      "1 clusters pass 1                     \n",
      "01:12 207Mb   100.0% UCLUST 1010 seqs EE<0.10, 3 centroids, 1006 members\n",
      "01:12 207Mb   100.0% Make cluster MFAs                                  \n",
      "4 clusters pass 2                     \n",
      "01:12 207Mb  \n",
      "01:12 207Mb  Align cluster 1 / 4 (500 seqs)\n",
      "01:12 207Mb  \n",
      "02:03 1.0Gb   100.0% Calc posteriors \n",
      "02:55 1.5Gb   100.0% Consistency (1/2) \n",
      "03:46 1.5Gb   100.0% Consistency (2/2) \n",
      "03:46 1.5Gb   100.0% UPGMA5           \n",
      "03:57 1.5Gb   100.0% Refining\n",
      "03:57 1.5Gb                  \n",
      "03:57 1.5Gb  Align cluster 2 / 4 (111 seqs)\n",
      "03:57 1.5Gb  \n",
      "04:00 1.0Gb   100.0% Calc posteriors\n",
      "04:00 1.0Gb   100.0% Consistency (1/2)\n",
      "04:00 1.0Gb   100.0% Consistency (2/2)\n",
      "04:00 1.0Gb   100.0% UPGMA5           \n",
      "04:01 1.0Gb   100.0% Refining\n",
      "04:01 1.0Gb                  \n",
      "04:01 1.0Gb  Align cluster 3 / 4 (209 seqs)\n",
      "04:01 1.0Gb  \n",
      "04:09 1.0Gb   100.0% Calc posteriors \n",
      "04:13 1.0Gb   100.0% Consistency (1/2) \n",
      "04:16 1.0Gb   100.0% Consistency (2/2) \n",
      "04:16 1.0Gb   100.0% UPGMA5           \n",
      "04:18 1.0Gb   100.0% Refining\n",
      "04:18 1.0Gb                  \n",
      "04:18 1.0Gb  Align cluster 4 / 4 (190 seqs)\n",
      "04:18 1.0Gb  \n",
      "04:24 1.0Gb   100.0% Calc posteriors \n",
      "04:26 1.0Gb   100.0% Consistency (1/2) \n",
      "04:28 1.0Gb   100.0% Consistency (2/2) \n",
      "04:28 1.0Gb   100.0% UPGMA5           \n",
      "04:30 1.0Gb   100.0% Refining\n",
      "04:30 1.0Gb   100.0% Consensus sequences\n",
      "04:30 1.0Gb   100.0% 4 consensus seqs, mean EE 0.015\n",
      "04:30 1.0Gb   100.0% UPGMA5                         \n",
      "04:30 1.0Gb   100.0% Join 1 / 3 [111 x 190, 2000 pairs]\n",
      "04:31 1.0Gb   100.0% Join 2 / 3 [301 x 500, 2000 pairs]\n",
      "04:32 1.0Gb   100.0% Join 3 / 3 [209 x 801, 2000 pairs]\n"
     ]
    },
    {
     "data": {
      "text/plain": [
       "0"
      ]
     },
     "execution_count": 34,
     "metadata": {},
     "output_type": "execute_result"
    }
   ],
   "source": [
    "# mouse sequences \n",
    "\n",
    "in_file = \"data/mouse.fa\"\n",
    "out_file = \"data/alignments/mouse_msa_muscle.fasta\"\n",
    "\n",
    "os.system(f'{muscle_path} -super5 {in_file} -output {out_file}')"
   ]
  }
 ],
 "metadata": {
  "kernelspec": {
   "display_name": "Python 3.11.0 ('bioinfo')",
   "language": "python",
   "name": "python3"
  },
  "language_info": {
   "codemirror_mode": {
    "name": "ipython",
    "version": 3
   },
   "file_extension": ".py",
   "mimetype": "text/x-python",
   "name": "python",
   "nbconvert_exporter": "python",
   "pygments_lexer": "ipython3",
   "version": "3.11.0"
  },
  "orig_nbformat": 4,
  "vscode": {
   "interpreter": {
    "hash": "886cd548bc8ebd5a711fc393b7f746638841d0692945d85de1f9436d717e8bed"
   }
  }
 },
 "nbformat": 4,
 "nbformat_minor": 2
}
