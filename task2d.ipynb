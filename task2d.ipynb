{
 "cells": [
  {
   "cell_type": "markdown",
   "metadata": {},
   "source": [
    "## Quantification of antibody nativeness using LSTM network\n",
    "\n",
    "As a final task, a Long Short-Term Memory network was used to quantify the nativeness of given sequences. The architecture is described in [paper](https://academic.oup.com/peds/article/32/7/347/5554642?login=false), and the code was downloaded from [GitHub repository](https://github.com/vkola-lab/peds2019).\n",
    "\n",
    "The underlying assumption is that, given an input sequence, a well-trained model would be able to predict any residue by learning information from its neighbors. The output of the model is the averaged sum of negative logarithms of all conditional probabilities (see paper); thus, lower scores indicate a higher degree of nativeness.\n",
    "\n",
    "The model takes files containing sequences in plain text format, delimited by one line-break."
   ]
  },
  {
   "cell_type": "code",
   "execution_count": 1,
   "metadata": {},
   "outputs": [],
   "source": [
    "import sys\n",
    "\n",
    "# add path to the folder containing the LSTM model\n",
    "sys.path.append('/home/enrico/Desktop/lecture_notes/erasmus/bioinformatics/project/peds2019')"
   ]
  },
  {
   "cell_type": "code",
   "execution_count": 39,
   "metadata": {},
   "outputs": [],
   "source": [
    "from ablstm import ModelLSTM\n",
    "from Bio import SeqIO\n",
    "import random\n",
    "import numpy as np\n",
    "import pandas as pd\n",
    "import matplotlib.pyplot as plt\n",
    "%matplotlib inline\n",
    "# import seaborn"
   ]
  },
  {
   "cell_type": "code",
   "execution_count": 8,
   "metadata": {},
   "outputs": [],
   "source": [
    "# parse sequenced aligned with ANARCI numbering\n",
    "\n",
    "human_seq = [seq.seq for seq in SeqIO.parse(\"data/alignments/human_hmm_align.fasta\", \"fasta\")]\n",
    "mouse_seq = [seq.seq for seq in SeqIO.parse(\"data/alignments/mouse_hmm_align.fasta\", \"fasta\")]"
   ]
  },
  {
   "cell_type": "code",
   "execution_count": 9,
   "metadata": {},
   "outputs": [],
   "source": [
    "# shuffle the lists of sequences before the train/val/test split\n",
    "random.seed(42)\n",
    "random.shuffle(human_seq)\n",
    "random.shuffle(mouse_seq)"
   ]
  },
  {
   "cell_type": "code",
   "execution_count": 10,
   "metadata": {},
   "outputs": [],
   "source": [
    "# split the sequences in the following way: 70% train set, 15% validation set, 15% test set\n",
    "\n",
    "idx_val = round(len(human_seq)*0.7)      # find indices for train/val/test split\n",
    "idx_test = round(len(human_seq)*0.85)    # "
   ]
  },
  {
   "cell_type": "code",
   "execution_count": 11,
   "metadata": {},
   "outputs": [],
   "source": [
    "# prepare input files in plain text format for the LSTM model (only sequences)\n",
    "\n",
    "lstm_folder = 'data/lstm_model/'\n",
    "\n",
    "# split human sequences in train/validation/test sets\n",
    "\n",
    "with open(f'{lstm_folder}human_seq_train.txt', 'w') as f:\n",
    "    for seq in human_seq[:idx_val]:\n",
    "        f.write(f'{seq}\\n')\n",
    "\n",
    "with open(f'{lstm_folder}human_seq_val.txt', 'w') as f:\n",
    "    for seq in human_seq[idx_val:idx_test]:\n",
    "        f.write(f'{seq}\\n')\n",
    "\n",
    "with open(f'{lstm_folder}human_seq_test.txt', 'w') as f:\n",
    "        for seq in human_seq[idx_test:]:\n",
    "            f.write(f'{seq}\\n')\n",
    "\n",
    "\n",
    "# use the same amount of mouse sequences as validation set\n",
    "\n",
    "with open(f'{lstm_folder}/mouse_seq.txt', 'w') as f:\n",
    "    for seq in mouse_seq[idx_test:]:\n",
    "        f.write(f'{seq}\\n')"
   ]
  },
  {
   "cell_type": "code",
   "execution_count": 12,
   "metadata": {},
   "outputs": [],
   "source": [
    "# define the LSMT model\n",
    "\n",
    "model = ModelLSTM(\n",
    "    embedding_dim=64,       # embedding layer dimensions\n",
    "    hidden_dim=64,          # hidden layer dimension\n",
    "    device='cuda',          # select GPU as device\n",
    "    gapped=True,            # gapped=True since the sequences contain gaps \"-\"\n",
    "    fixed_len=True          # since all the sequences alignmned with ANARCI has same lenght\n",
    ")"
   ]
  },
  {
   "cell_type": "code",
   "execution_count": 13,
   "metadata": {},
   "outputs": [
    {
     "name": "stderr",
     "output_type": "stream",
     "text": [
      "Epoch 000 (TRN): 100%|| 6998/6998 [00:04<00:00, 1728.52seq/s, loss=2.316994, acc=0.316928]\n",
      "          (VLD): 100%|| 1499/1499 [00:00<00:00, 2617.65seq/s, loss=1.585479, acc=0.588627]\n",
      "Epoch 001 (TRN): 100%|| 6998/6998 [00:03<00:00, 1818.72seq/s, loss=1.023735, acc=0.743782]\n",
      "          (VLD): 100%|| 1499/1499 [00:00<00:00, 2831.36seq/s, loss=0.709808, acc=0.827673]\n",
      "Epoch 002 (TRN): 100%|| 6998/6998 [00:03<00:00, 1792.87seq/s, loss=0.617722, acc=0.852348]\n",
      "          (VLD): 100%|| 1499/1499 [00:00<00:00, 2363.76seq/s, loss=0.564973, acc=0.864175]\n",
      "Epoch 003 (TRN): 100%|| 6998/6998 [00:03<00:00, 1756.86seq/s, loss=0.527868, acc=0.874775]\n",
      "          (VLD): 100%|| 1499/1499 [00:00<00:00, 2515.88seq/s, loss=0.511118, acc=0.878942]\n",
      "Epoch 004 (TRN): 100%|| 6998/6998 [00:04<00:00, 1731.70seq/s, loss=0.485219, acc=0.885258]\n",
      "          (VLD): 100%|| 1499/1499 [00:00<00:00, 2548.03seq/s, loss=0.479450, acc=0.885559]\n",
      "Epoch 005 (TRN): 100%|| 6998/6998 [00:03<00:00, 1898.61seq/s, loss=0.458411, acc=0.891003]\n",
      "          (VLD): 100%|| 1499/1499 [00:00<00:00, 2552.70seq/s, loss=0.457564, acc=0.890630]\n",
      "Epoch 006 (TRN): 100%|| 6998/6998 [00:04<00:00, 1748.08seq/s, loss=0.439250, acc=0.895083]\n",
      "          (VLD): 100%|| 1499/1499 [00:00<00:00, 2652.66seq/s, loss=0.441699, acc=0.893983]\n",
      "Epoch 007 (TRN): 100%|| 6998/6998 [00:03<00:00, 1847.13seq/s, loss=0.424966, acc=0.898718]\n",
      "          (VLD): 100%|| 1499/1499 [00:00<00:00, 2613.09seq/s, loss=0.429917, acc=0.897517]\n",
      "Epoch 008 (TRN): 100%|| 6998/6998 [00:03<00:00, 1846.89seq/s, loss=0.413681, acc=0.901514]\n",
      "          (VLD): 100%|| 1499/1499 [00:00<00:00, 2725.71seq/s, loss=0.420370, acc=0.900078]\n",
      "Epoch 009 (TRN): 100%|| 6998/6998 [00:03<00:00, 1839.96seq/s, loss=0.403912, acc=0.903651]\n",
      "          (VLD): 100%|| 1499/1499 [00:00<00:00, 2582.31seq/s, loss=0.411485, acc=0.902128]\n",
      "Epoch 010 (TRN): 100%|| 6998/6998 [00:03<00:00, 1876.07seq/s, loss=0.396044, acc=0.905417]\n",
      "          (VLD): 100%|| 1499/1499 [00:00<00:00, 2654.99seq/s, loss=0.405094, acc=0.903418]\n",
      "Epoch 011 (TRN): 100%|| 6998/6998 [00:03<00:00, 1776.79seq/s, loss=0.388600, acc=0.906927]\n",
      "          (VLD): 100%|| 1499/1499 [00:00<00:00, 2672.93seq/s, loss=0.399619, acc=0.904950]\n",
      "Epoch 012 (TRN): 100%|| 6998/6998 [00:03<00:00, 1801.08seq/s, loss=0.382301, acc=0.908452]\n",
      "          (VLD): 100%|| 1499/1499 [00:00<00:00, 2513.04seq/s, loss=0.393148, acc=0.906221]\n",
      "Epoch 013 (TRN): 100%|| 6998/6998 [00:03<00:00, 1800.25seq/s, loss=0.376832, acc=0.909651]\n",
      "          (VLD): 100%|| 1499/1499 [00:00<00:00, 2667.89seq/s, loss=0.388356, acc=0.907019]\n",
      "Epoch 014 (TRN): 100%|| 6998/6998 [00:03<00:00, 1846.93seq/s, loss=0.371311, acc=0.910886]\n",
      "          (VLD): 100%|| 1499/1499 [00:00<00:00, 2718.36seq/s, loss=0.384799, acc=0.908304]\n"
     ]
    }
   ],
   "source": [
    "# define input paths for train and valdiation datasets and fit the model\n",
    "\n",
    "trn_fn = f'{lstm_folder}human_seq_train.txt'\n",
    "vld_fn = f'{lstm_folder}human_seq_val.txt'\n",
    "\n",
    "model.fit(trn_fn=trn_fn, vld_fn=vld_fn, n_epoch=15, save_fp=None)"
   ]
  },
  {
   "cell_type": "code",
   "execution_count": 18,
   "metadata": {},
   "outputs": [
    {
     "name": "stderr",
     "output_type": "stream",
     "text": [
      "100%|| 1500/1500 [00:00<00:00, 5920.50seq/s]\n",
      "100%|| 1500/1500 [00:00<00:00, 7144.61seq/s]\n"
     ]
    }
   ],
   "source": [
    "tst_fn = f'{lstm_folder}human_seq_test.txt'       # define input path for human test set\n",
    "tst_fn_mouse = f'{lstm_folder}mouse_seq.txt'      # define input path for mouse dataset\n",
    "\n",
    "human_score = model.eval(fn=tst_fn)                # generate predictions\n",
    "mouse_score = model.eval(fn=tst_fn_mouse)"
   ]
  },
  {
   "cell_type": "code",
   "execution_count": 43,
   "metadata": {},
   "outputs": [
    {
     "name": "stdout",
     "output_type": "stream",
     "text": [
      "[0.3130309  0.28200117 0.3209345  ... 0.62649286 0.22526927 0.2757888 ]\n"
     ]
    }
   ],
   "source": [
    "print(human_score)"
   ]
  },
  {
   "cell_type": "code",
   "execution_count": 44,
   "metadata": {},
   "outputs": [
    {
     "data": {
      "image/png": "[encoded data removed]",
      "text/plain": [
       "<Figure size 900x600 with 1 Axes>"
      ]
     },
     "metadata": {},
     "output_type": "display_data"
    }
   ],
   "source": [
    "plt.figure(figsize=(9,6))\n",
    "plt.xlabel('LSTM Score')\n",
    "\n",
    "ax1 = pd.Series(human_score).plot(kind = 'density', color = 'orange', label = 'Human')\n",
    "ax2 = pd.Series(mouse_score).plot(kind = 'density', color = 'blue', label = 'Mouse')\n",
    "\n",
    "plt.xlim([0, 3])\n",
    "\n",
    "ax1.legend()\n",
    "ax2.legend()\n",
    "\n",
    "plt.show()"
   ]
  },
  {
   "cell_type": "code",
   "execution_count": null,
   "metadata": {},
   "outputs": [],
   "source": [
    "# generate ROC using arbitrary cutoffs"
   ]
  },
  {
   "cell_type": "code",
   "execution_count": null,
   "metadata": {},
   "outputs": [],
   "source": [
    "# investigate correlation between LSTM score and sequence identity"
   ]
  }
 ],
 "metadata": {
  "kernelspec": {
   "display_name": "Python 3.9.13 ('amlfall22')",
   "language": "python",
   "name": "python3"
  },
  "language_info": {
   "codemirror_mode": {
    "name": "ipython",
    "version": 3
   },
   "file_extension": ".py",
   "mimetype": "text/x-python",
   "name": "python",
   "nbconvert_exporter": "python",
   "pygments_lexer": "ipython3",
   "version": "3.9.13"
  },
  "orig_nbformat": 4,
  "vscode": {
   "interpreter": {
    "hash": "8025ca5e2ca78d55603bc67c162c7a64cea0a67accc1b6c8e8c5f8fd90f1b894"
   }
  }
 },
 "nbformat": 4,
 "nbformat_minor": 2
}
