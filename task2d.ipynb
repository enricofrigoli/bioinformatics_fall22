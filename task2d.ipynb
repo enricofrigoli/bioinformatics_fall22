{
 "cells": [
  {
   "cell_type": "markdown",
   "metadata": {},
   "source": [
    "## Quantification of antibody nativeness using LSTM network\n",
    "\n",
    "As a final task, a Long Short-Term Memory network was used to quantify the nativeness of given sequences. The architecture is described in this [paper](https://academic.oup.com/peds/article/32/7/347/5554642?login=false), and the code was downloaded from this [GitHub repository](https://github.com/vkola-lab/peds2019).\n",
    "\n",
    "The underlying assumption is that, given an input sequence, a well-trained model would be able to predict any residue by learning information from its neighbors. The output of the model is the averaged sum of negative logarithms of all conditional probabilities (see paper); thus, lower scores indicate a higher degree of nativeness.\n",
    "\n",
    "The model takes files containing sequences in plain text format, delimited by one line-break."
   ]
  },
  {
   "cell_type": "code",
   "execution_count": 23,
   "metadata": {},
   "outputs": [],
   "source": [
    "import sys\n",
    "# add path to the folder containing the LSTM model\n",
    "sys.path.append('/home/enrico/Desktop/lecture_notes/erasmus/bioinformatics/project/peds2019')"
   ]
  },
  {
   "cell_type": "code",
   "execution_count": 25,
   "metadata": {},
   "outputs": [],
   "source": [
    "from ablstm import ModelLSTM\n",
    "from Bio import SeqIO\n",
    "import anarci\n",
    "import numpy as np\n",
    "import pandas as pd\n",
    "import matplotlib.pyplot as plt\n",
    "%matplotlib inline\n",
    "import seaborn as sns"
   ]
  },
  {
   "cell_type": "code",
   "execution_count": 39,
   "metadata": {},
   "outputs": [],
   "source": [
    "# parse sequenced aligned with ANARCI numbering\n",
    "\n",
    "human_seq = [seq.seq for seq in SeqIO.parse(\"data/alignments/human_hmm_align.fasta\", \"fasta\")]\n",
    "mouse_seq = [seq.seq for seq in SeqIO.parse(\"data/alignments/mouse_hmm_align.fasta\", \"fasta\")]"
   ]
  },
  {
   "cell_type": "code",
   "execution_count": 4,
   "metadata": {},
   "outputs": [],
   "source": [
    "# split the sequences in the following way: 60% train set, 20% validation set, 20% test set\n",
    "\n",
    "idx_val = round(len(human_seq)*0.6)      # find indices for train/val/test split\n",
    "idx_test = round(len(human_seq)*0.8)     # "
   ]
  },
  {
   "cell_type": "code",
   "execution_count": 7,
   "metadata": {},
   "outputs": [],
   "source": [
    "lstmDir = 'data/lstm_model/'"
   ]
  },
  {
   "cell_type": "code",
   "execution_count": 8,
   "metadata": {},
   "outputs": [],
   "source": [
    "# prepare input files in plain text format for the LSTM model (only sequences)\n",
    "\n",
    "with open(f'{lstmDir}human_seq_train.txt', 'w') as f:\n",
    "    for seq in human_seq[:idx_val]:\n",
    "        f.write(f'{seq}\\n')\n",
    "\n",
    "with open(f'{lstmDir}human_seq_val.txt', 'w') as f:\n",
    "    for seq in human_seq[idx_val:idx_test]:\n",
    "        f.write(f'{seq}\\n')\n",
    "\n",
    "with open(f'{lstmDir}human_seq_test.txt', 'w') as f:\n",
    "        for seq in human_seq[idx_test:]:\n",
    "            f.write(f'{seq}\\n')\n",
    "\n",
    "\n",
    "# use the same amount of mouse sequences as evaluation set\n",
    "with open(f'{lstmDir}/mouse_seq.txt', 'w') as f:\n",
    "    for seq in mouse_seq[idx_test:]:\n",
    "        f.write(f'{seq}\\n')"
   ]
  },
  {
   "cell_type": "code",
   "execution_count": 9,
   "metadata": {},
   "outputs": [],
   "source": [
    "# define the LSMT model\n",
    "\n",
    "\"\"\" model = ModelLSTM(\n",
    "    embedding_dim=128,      # embedding layer dimensions\n",
    "    hidden_dim=128,         # hidden layer dimension\n",
    "    device='cuda',          # select GPU as device\n",
    "    gapped=True,            # gapped=True since the sequences contain gaps \"-\"\n",
    "    fixed_len=True          # since all the sequences alignmned with ANARCI has same lenght\n",
    ") \"\"\""
   ]
  },
  {
   "cell_type": "code",
   "execution_count": 10,
   "metadata": {},
   "outputs": [
    {
     "name": "stderr",
     "output_type": "stream",
     "text": [
      "Epoch 000 (TRN): 100%|| 5998/5998 [00:05<00:00, 1062.89seq/s, loss=1.890811, acc=0.465324]\n",
      "          (VLD): 100%|| 2000/2000 [00:00<00:00, 2748.49seq/s, loss=0.877243, acc=0.784622]\n",
      "Epoch 001 (TRN): 100%|| 5998/5998 [00:05<00:00, 1090.28seq/s, loss=0.644962, acc=0.844289]\n",
      "          (VLD): 100%|| 2000/2000 [00:00<00:00, 2767.91seq/s, loss=0.526379, acc=0.873679]\n",
      "Epoch 002 (TRN): 100%|| 5998/5998 [00:05<00:00, 1063.01seq/s, loss=0.485318, acc=0.884751]\n",
      "          (VLD): 100%|| 2000/2000 [00:00<00:00, 2521.42seq/s, loss=0.456330, acc=0.891801]\n",
      "Epoch 003 (TRN): 100%|| 5998/5998 [00:05<00:00, 1072.88seq/s, loss=0.434055, acc=0.896598]\n",
      "          (VLD): 100%|| 2000/2000 [00:00<00:00, 2508.23seq/s, loss=0.424691, acc=0.898976]\n",
      "Epoch 004 (TRN): 100%|| 5998/5998 [00:05<00:00, 1025.75seq/s, loss=0.404983, acc=0.903019]\n",
      "          (VLD): 100%|| 2000/2000 [00:00<00:00, 2604.92seq/s, loss=0.402654, acc=0.904446]\n",
      "Epoch 005 (TRN): 100%|| 5998/5998 [00:05<00:00, 1005.76seq/s, loss=0.384909, acc=0.907341]\n",
      "          (VLD): 100%|| 2000/2000 [00:00<00:00, 2620.91seq/s, loss=0.388030, acc=0.907179]\n",
      "Epoch 006 (TRN): 100%|| 5998/5998 [00:06<00:00, 920.63seq/s, loss=0.367821, acc=0.911676] \n",
      "          (VLD): 100%|| 2000/2000 [00:00<00:00, 2335.76seq/s, loss=0.375012, acc=0.911047]\n",
      "Epoch 007 (TRN): 100%|| 5998/5998 [00:05<00:00, 1064.86seq/s, loss=0.353605, acc=0.915124]\n",
      "          (VLD): 100%|| 2000/2000 [00:00<00:00, 2748.35seq/s, loss=0.365687, acc=0.913831]\n",
      "Epoch 008 (TRN): 100%|| 5998/5998 [00:05<00:00, 1060.21seq/s, loss=0.339452, acc=0.918508]\n",
      "          (VLD): 100%|| 2000/2000 [00:00<00:00, 2733.55seq/s, loss=0.352749, acc=0.916726]\n",
      "Epoch 009 (TRN): 100%|| 5998/5998 [00:05<00:00, 1049.24seq/s, loss=0.327816, acc=0.921623]\n",
      "          (VLD): 100%|| 2000/2000 [00:00<00:00, 2819.00seq/s, loss=0.347392, acc=0.918568]\n",
      "Epoch 010 (TRN): 100%|| 5998/5998 [00:05<00:00, 1074.91seq/s, loss=0.316846, acc=0.924357]\n",
      "          (VLD): 100%|| 2000/2000 [00:00<00:00, 2546.56seq/s, loss=0.337699, acc=0.921311]\n",
      "Epoch 011 (TRN): 100%|| 5998/5998 [00:05<00:00, 1000.21seq/s, loss=0.305594, acc=0.927628]\n",
      "          (VLD): 100%|| 2000/2000 [00:00<00:00, 2683.31seq/s, loss=0.329426, acc=0.923831]\n",
      "Epoch 012 (TRN): 100%|| 5998/5998 [00:05<00:00, 1041.30seq/s, loss=0.294927, acc=0.930558]\n",
      "          (VLD): 100%|| 2000/2000 [00:00<00:00, 2820.14seq/s, loss=0.322352, acc=0.926372]\n",
      "Epoch 013 (TRN): 100%|| 5998/5998 [00:06<00:00, 993.31seq/s, loss=0.284558, acc=0.933622] \n",
      "          (VLD): 100%|| 2000/2000 [00:00<00:00, 2594.07seq/s, loss=0.315478, acc=0.928139]\n",
      "Epoch 014 (TRN): 100%|| 5998/5998 [00:05<00:00, 1015.92seq/s, loss=0.275148, acc=0.936349]\n",
      "          (VLD): 100%|| 2000/2000 [00:00<00:00, 2610.85seq/s, loss=0.306963, acc=0.931399]\n",
      "Epoch 015 (TRN): 100%|| 5998/5998 [00:06<00:00, 962.37seq/s, loss=0.266674, acc=0.938507] \n",
      "          (VLD): 100%|| 2000/2000 [00:00<00:00, 2602.51seq/s, loss=0.302529, acc=0.932490]\n",
      "Epoch 016 (TRN): 100%|| 5998/5998 [00:06<00:00, 992.57seq/s, loss=0.258180, acc=0.940952] \n",
      "          (VLD): 100%|| 2000/2000 [00:00<00:00, 2611.65seq/s, loss=0.296570, acc=0.934230]\n",
      "Epoch 017 (TRN): 100%|| 5998/5998 [00:06<00:00, 920.66seq/s, loss=0.249810, acc=0.943430] \n",
      "          (VLD): 100%|| 2000/2000 [00:00<00:00, 2432.85seq/s, loss=0.293351, acc=0.935703]\n",
      "Epoch 018 (TRN): 100%|| 5998/5998 [00:06<00:00, 899.87seq/s, loss=0.242541, acc=0.945338]\n",
      "          (VLD): 100%|| 2000/2000 [00:00<00:00, 2664.05seq/s, loss=0.286026, acc=0.938446]\n",
      "Epoch 019 (TRN): 100%|| 5998/5998 [00:06<00:00, 915.87seq/s, loss=0.235141, acc=0.947262]\n",
      "          (VLD): 100%|| 2000/2000 [00:00<00:00, 2328.56seq/s, loss=0.280272, acc=0.940169]\n"
     ]
    }
   ],
   "source": [
    "# define input paths for train and valdiation datasets and fit the model\n",
    "\n",
    "trn_fn = f'{lstmDir}human_seq_train.txt'\n",
    "vld_fn = f'{lstmDir}human_seq_val.txt'\n",
    "\n",
    "# model.fit(trn_fn=trn_fn, vld_fn=vld_fn, n_epoch=20, save_fp=None)\n",
    "# model.save(fn=f'{lstmDir}model.npy')"
   ]
  },
  {
   "cell_type": "code",
   "execution_count": 15,
   "metadata": {},
   "outputs": [],
   "source": [
    "# load model\n",
    "model_loaded = ModelLSTM(\n",
    "    embedding_dim=128,      # embedding layer dimensions\n",
    "    hidden_dim=128,         # hidden layer dimension\n",
    "    device='cuda',          # select GPU as device\n",
    "    gapped=True,            # gapped=True since the sequences contain gaps \"-\"\n",
    "    fixed_len=True          # since all the sequences aligned with ANARCI have same lenght\n",
    ")\n",
    "model_loaded.load(fn='data/lstm_model/model.npy')"
   ]
  },
  {
   "cell_type": "code",
   "execution_count": 16,
   "metadata": {},
   "outputs": [
    {
     "name": "stderr",
     "output_type": "stream",
     "text": [
      "100%|| 1999/1999 [00:00<00:00, 2276.43seq/s]\n",
      "100%|| 1999/1999 [00:00<00:00, 2713.15seq/s]\n"
     ]
    }
   ],
   "source": [
    "tst_fn = f'{lstmDir}human_seq_test.txt'       # define input path for human test set\n",
    "tst_fn_mouse = f'{lstmDir}mouse_seq.txt'      # define input path for mouse dataset\n",
    "\n",
    "human_score = model_loaded.eval(fn=tst_fn)               # generate predictions\n",
    "mouse_score = model_loaded.eval(fn=tst_fn_mouse)         #"
   ]
  },
  {
   "cell_type": "code",
   "execution_count": 56,
   "metadata": {},
   "outputs": [
    {
     "name": "stderr",
     "output_type": "stream",
     "text": [
      "100%|| 3/3 [00:00<00:00, 206.26seq/s]"
     ]
    },
    {
     "name": "stdout",
     "output_type": "stream",
     "text": [
      "Bevacizumab has score: 1.50118\n",
      "Caplacizumab has score: 1.71924\n",
      "muromonab has score: 1.83387\n"
     ]
    },
    {
     "name": "stderr",
     "output_type": "stream",
     "text": [
      "\n"
     ]
    }
   ],
   "source": [
    "# print score of bevacizumab etc\n",
    "\n",
    "abSeq = [(seq.id, seq.seq) for seq in SeqIO.parse('data/alignments/nTopSequences.fasta', 'fasta')]\n",
    "\n",
    "with open(f'{lstmDir}comm_ab.txt', 'w') as f:\n",
    "    for seq in abSeq:\n",
    "        f.write(f'{seq[1]}\\n')    \n",
    "\n",
    "comm_ab = lstmDir + 'comm_ab.txt'\n",
    "comm_ab_score = model_loaded.eval(fn=comm_ab)\n",
    "\n",
    "for i in range(len(abSeq)):\n",
    "    print(f'{abSeq[i][0]} has score: {comm_ab_score[i]:.5f}')"
   ]
  },
  {
   "cell_type": "code",
   "execution_count": 17,
   "metadata": {},
   "outputs": [
    {
     "name": "stdout",
     "output_type": "stream",
     "text": [
      "[0.41881922 0.21037962 0.08248673 ... 0.17867185 0.890353   0.87392783]\n",
      "[1.4842085 1.4447832 2.0738158 ... 1.8228635 2.136198  1.8379416]\n"
     ]
    }
   ],
   "source": [
    "print(human_score)\n",
    "print(mouse_score)"
   ]
  },
  {
   "cell_type": "code",
   "execution_count": 26,
   "metadata": {},
   "outputs": [
    {
     "data": {
      "image/png": "[encoded data removed]",
      "text/plain": [
       "<Figure size 640x480 with 1 Axes>"
      ]
     },
     "metadata": {},
     "output_type": "display_data"
    }
   ],
   "source": [
    "# plot score frequences\n",
    "plt.figure()\n",
    "plt.xlabel('LSTM Score')\n",
    "\n",
    "ax1 = pd.Series(human_score).plot(kind = 'hist', bins=50, color = 'orange', alpha = 0.7, label = 'Human')\n",
    "ax2 = pd.Series(mouse_score).plot(kind = 'hist', bins=50, color = 'blue', alpha = 0.7, label = 'Mouse')\n",
    "\n",
    "plt.xlim([0, 3.5])\n",
    "\n",
    "ax1.legend()\n",
    "ax2.legend()\n",
    "\n",
    "plt.savefig('data/lstm_model/score_plot.png', bbox_inches=\"tight\", pad_inches = 0.08)\n",
    "plt.show()"
   ]
  },
  {
   "cell_type": "code",
   "execution_count": 47,
   "metadata": {},
   "outputs": [],
   "source": [
    "from sklearn.metrics import roc_auc_score, roc_curve\n",
    "\n",
    "def plot_ROC(h_scores, m_scores):\n",
    "\n",
    "    h_scores = pd.DataFrame(h_scores, columns=['scores'])\n",
    "    h_scores['true'] = 1\n",
    "    m_scores = pd.DataFrame(m_scores, columns=['scores'])\n",
    "    m_scores['true'] = 0\n",
    "\n",
    "    data = pd.concat([h_scores, m_scores], ignore_index=True)\n",
    "    # scores need to be normalized since we selected 1 (positive class) for human \n",
    "    # but mouse sequences have a higher score\n",
    "    data['scores'] = (data['scores'] - data['scores'].min()) / (data['scores'].max() - data['scores'].min())\n",
    "    data['scores'] = 1 - data['scores']\n",
    "    fpr, tpr, thresholds = roc_curve(data['true'], data['scores'], pos_label=1)\n",
    "    auc = roc_auc_score(data['true'], data['scores'])\n",
    "\n",
    "    plt.plot(fpr, tpr)\n",
    "    plt.xlabel('False positive rate')\n",
    "    plt.ylabel('True positive rate')\n",
    "    plt.legend([f'AUC:{auc:.5f}'])\n",
    "    plt.savefig('data/lstm_model/ROC.png', bbox_inches=\"tight\", pad_inches = 0.08)\n",
    "    plt.show()"
   ]
  },
  {
   "cell_type": "code",
   "execution_count": 48,
   "metadata": {},
   "outputs": [
    {
     "data": {
      "image/png": "[encoded data removed]",
      "text/plain": [
       "<Figure size 640x480 with 1 Axes>"
      ]
     },
     "metadata": {},
     "output_type": "display_data"
    }
   ],
   "source": [
    "plot_ROC(human_score, mouse_score)"
   ]
  },
  {
   "cell_type": "markdown",
   "metadata": {},
   "source": [
    "### Plot lstm score vs human germline identity\n",
    "\n",
    "As human germline identity, the v_identity score in the ANARCI numbering was used. To obtain such score for mouse sequences, the numbering of mouse sequences was repeated forcing ANARCI to use a human germline.\n",
    "\n",
    "Code is messy, but there is no point in cleaning it since we only need the plots."
   ]
  },
  {
   "cell_type": "code",
   "execution_count": 27,
   "metadata": {},
   "outputs": [],
   "source": [
    "# run anarci on mouse sequences setting human as germline to retrieve the v_gene identity\n",
    "# note that this output is not used to extract any alignment\n",
    "\n",
    "mouseSeqPath = 'data/mouse.fa'\n",
    "\n",
    "results = anarci.run_anarci(mouseSeqPath,\n",
    "    ncpu=8,\n",
    "    scheme='imgt',\n",
    "    assign_germline=True,\n",
    "    allowed_species=['human'],\n",
    "    output=True,\n",
    "    csv=True,\n",
    "    outfile='data/mouse_vs_human_germ'\n",
    ")"
   ]
  },
  {
   "cell_type": "code",
   "execution_count": 34,
   "metadata": {},
   "outputs": [],
   "source": [
    "def extract_score_vs_identity(numberingPath, fastaPath, scores, idx_test, organism):\n",
    "\n",
    "    # retrieve numbering csv that has a columns named 'v_identity'\n",
    "    numbering = pd.read_csv(numberingPath)\n",
    "    numbering = numbering[['Id', 'v_identity']]       # keep only Id and v_identity columns\n",
    "\n",
    "    # retrieve Ids from the fasta alignment obtained from the same numbering csv, this fasta was used as input for the LSTM model\n",
    "    ids = pd.Series([int(seq.id) for seq in SeqIO.parse(fastaPath, \"fasta\")], name = 'Id')\n",
    "\n",
    "    # the output sequences were only the ones belonging to the test set, so from idx_test to the end\n",
    "    ids = ids[idx_test:]\n",
    "\n",
    "    # merge series of Ids of scored sequences and df containing Id and v_identity\n",
    "    ret = pd.merge(ids, numbering, how='left', on='Id')\n",
    "    ret['score'] = scores\n",
    "    ret['organism'] = organism\n",
    "\n",
    "    return ret"
   ]
  },
  {
   "cell_type": "code",
   "execution_count": 35,
   "metadata": {},
   "outputs": [],
   "source": [
    "humanDf = extract_score_vs_identity('data/human_numbering_H.csv', 'data/alignments/human_hmm_align.fasta', human_score, idx_test, 'human')\n",
    "mouseDf = extract_score_vs_identity('data/mouse_vs_human_germ_H.csv', 'data/alignments/mouse_hmm_align.fasta', mouse_score, idx_test, 'mouse')"
   ]
  },
  {
   "cell_type": "code",
   "execution_count": 40,
   "metadata": {},
   "outputs": [
    {
     "data": {
      "image/png": "[encoded data removed]",
      "text/plain": [
       "<Figure size 640x480 with 1 Axes>"
      ]
     },
     "metadata": {},
     "output_type": "display_data"
    }
   ],
   "source": [
    "mergeDf = pd.concat([humanDf, mouseDf])\n",
    "kdeplot = sns.kdeplot(data=mergeDf, x='v_identity', y='score',\n",
    "            fill=True, levels=20, hue='organism')\n",
    "\n",
    "kdeplot.set(xlabel = 'Human germline identity', ylabel = 'LSTM Score')\n",
    "plot_fig = kdeplot.get_figure()\n",
    "plot_fig.savefig('data/lstm_model/score_vs_identity.png', bbox_inches=\"tight\", pad_inches = 0.08)"
   ]
  }
 ],
 "metadata": {
  "kernelspec": {
   "display_name": "Python 3.10.8 ('amlfall22')",
   "language": "python",
   "name": "python3"
  },
  "language_info": {
   "codemirror_mode": {
    "name": "ipython",
    "version": 3
   },
   "file_extension": ".py",
   "mimetype": "text/x-python",
   "name": "python",
   "nbconvert_exporter": "python",
   "pygments_lexer": "ipython3",
   "version": "3.10.8"
  },
  "orig_nbformat": 4,
  "vscode": {
   "interpreter": {
    "hash": "8025ca5e2ca78d55603bc67c162c7a64cea0a67accc1b6c8e8c5f8fd90f1b894"
   }
  }
 },
 "nbformat": 4,
 "nbformat_minor": 2
}
